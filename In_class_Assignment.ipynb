{
  "nbformat": 4,
  "nbformat_minor": 0,
  "metadata": {
    "colab": {
      "provenance": [],
      "authorship_tag": "ABX9TyN8vDNm0wuWGgvh8OZHg4Aq",
      "include_colab_link": true
    },
    "kernelspec": {
      "name": "python3",
      "display_name": "Python 3"
    },
    "language_info": {
      "name": "python"
    }
  },
  "cells": [
    {
      "cell_type": "markdown",
      "metadata": {
        "id": "view-in-github",
        "colab_type": "text"
      },
      "source": [
        "<a href=\"https://colab.research.google.com/github/mayayamaguchi/BTE320/blob/main/In_class_Assignment.ipynb\" target=\"_parent\"><img src=\"https://colab.research.google.com/assets/colab-badge.svg\" alt=\"Open In Colab\"/></a>"
      ]
    },
    {
      "cell_type": "markdown",
      "source": [
        "A company calculatesits Gross Profit as: sales-COGS, assume the COGS is 40% of sales\n",
        "\n",
        "write a program to: prompt for sales, calculate and display the COGS and gross profit"
      ],
      "metadata": {
        "id": "GtsJrrKlhcXs"
      }
    },
    {
      "cell_type": "code",
      "execution_count": 6,
      "metadata": {
        "colab": {
          "base_uri": "https://localhost:8080/"
        },
        "id": "fWXGclkJgbBN",
        "outputId": "8287f608-ed62-49ff-c8f4-d4c843afd896"
      },
      "outputs": [
        {
          "output_type": "stream",
          "name": "stdout",
          "text": [
            "Enter sales: 12000\n",
            "Sales: $ 12000\n",
            "Cost of goods sold is $ 4800.0\n",
            "Gross pofit is $ 7200.0\n"
          ]
        }
      ],
      "source": [
        "#inputs\n",
        "sales=int(input(\"Enter sales: \"))\n",
        "\n",
        "#calculate and display COGS and Gross profit\n",
        "cogs=.4*(sales)\n",
        "profit=sales-COGS\n",
        "\n",
        "#print\n",
        "print(\"Sales: $\", sales)\n",
        "print(\"Cost of goods sold is $\",cogs)\n",
        "print(\"Gross pofit is $\",profit)"
      ]
    },
    {
      "cell_type": "code",
      "source": [
        "#inputs: sales and cogs_pct\n",
        "sales=input(\"Enter sales ($): \")\n",
        "sales=float(sales)\n",
        "\n",
        "cogs_pct=input(\"Enter Cost of Goods sold (%): \")\n",
        "cogs_pct=float(cogs_pct)\n",
        "\n",
        "#processes: calculate actual cost of goods sold\n",
        "cogs=sales*cogs_pct/100\n",
        "grossProfit= sales-cogs\n",
        "\n",
        "#outputs: display cogs and grossProfit\n",
        "print(f\"Cost of Goods sold: ${cogs}\")\n",
        "print(f\"Gross Profit: ${grossProfit}\")"
      ],
      "metadata": {
        "colab": {
          "base_uri": "https://localhost:8080/"
        },
        "id": "txKSSLDQjwE3",
        "outputId": "87f35dd1-7bde-4ca4-ad64-b2d274a1a4a7"
      },
      "execution_count": 5,
      "outputs": [
        {
          "output_type": "stream",
          "name": "stdout",
          "text": [
            "Enter sales ($): 12000\n",
            "Enter Cost of Goods sold (%): 40\n",
            "Cost of Goods sold: $4800.0\n",
            "Gross Profit: $7200.0\n"
          ]
        }
      ]
    },
    {
      "cell_type": "markdown",
      "source": [
        "Enhance the program to calculate Taxes and Net income:\n",
        "\n",
        "Prompt for a tax rate in percent, calculate taxes (gross profit x tax rate) and net income (gross profit-taxes)"
      ],
      "metadata": {
        "id": "2-w85chymBKb"
      }
    },
    {
      "cell_type": "code",
      "source": [
        "#inputs: sales and cogs_pct and tax_rt\n",
        "sales=input(\"Enter sales ($): \")\n",
        "sales=float(sales)\n",
        "\n",
        "cogs_pct=input(\"Enter Cost of Goods sold (%): \")\n",
        "cogs_pct=float(cogs_pct)\n",
        "\n",
        "tax_rt=input(\"Enter tax rate (%): \")\n",
        "tax_rt=float(tax_rt)\n",
        "\n",
        "\n",
        "#processes: calculate actual cost of goods sold, grossProfit, taxes, net income\n",
        "cogs=sales*cogs_pct/100\n",
        "grossProfit= sales-cogs\n",
        "taxes= grossProfit*(tax_rt/100)\n",
        "netIncome=grossProfit-taxes\n",
        "\n",
        "\n",
        "#outputs: display cogs and grossProfit\n",
        "print(f\"Sales: ${sales}\")\n",
        "print(f\"Cost of Goods sold: ${cogs}\")\n",
        "print(f\"Gross Profit: ${grossProfit}\")\n",
        "print(f\"Taxes: ${taxes}\")\n",
        "print(f\"Net Income: ${netIncome}\")"
      ],
      "metadata": {
        "colab": {
          "base_uri": "https://localhost:8080/"
        },
        "id": "T-JMOJvzmAp0",
        "outputId": "b6b97a96-da70-4bb2-c68b-7bd718c1b48f"
      },
      "execution_count": 12,
      "outputs": [
        {
          "output_type": "stream",
          "name": "stdout",
          "text": [
            "Enter sales ($): 12000\n",
            "Enter Cost of Goods sold (%): 40\n",
            "Enter tax rate (%): 30\n",
            "Sales: $12000.0\n",
            "Cost of Goods sold: $4800.0\n",
            "Gross Profit: $7200.0\n",
            "Taxes: $2160.0\n",
            "Net Income: $5040.0\n"
          ]
        }
      ]
    },
    {
      "cell_type": "markdown",
      "source": [
        "\n",
        "---\n",
        "\n"
      ],
      "metadata": {
        "id": "qIE1r-OhhRcn"
      }
    }
  ]
}