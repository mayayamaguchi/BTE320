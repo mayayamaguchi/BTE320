{
  "nbformat": 4,
  "nbformat_minor": 0,
  "metadata": {
    "colab": {
      "provenance": [],
      "authorship_tag": "ABX9TyMKQ3mynbWqQMcyP+jL5AyX",
      "include_colab_link": true
    },
    "kernelspec": {
      "name": "python3",
      "display_name": "Python 3"
    },
    "language_info": {
      "name": "python"
    }
  },
  "cells": [
    {
      "cell_type": "markdown",
      "metadata": {
        "id": "view-in-github",
        "colab_type": "text"
      },
      "source": [
        "<a href=\"https://colab.research.google.com/github/mayayamaguchi/BTE320/blob/main/In_class_Assignment.ipynb\" target=\"_parent\"><img src=\"https://colab.research.google.com/assets/colab-badge.svg\" alt=\"Open In Colab\"/></a>"
      ]
    },
    {
      "cell_type": "markdown",
      "source": [
        "A company calculatesits Gross Profit as: sales-COGS, assume the COGS is 40% of sales\n",
        "\n",
        "write a program to: prompt for sales, calculate and display the COGS and gross profit"
      ],
      "metadata": {
        "id": "GtsJrrKlhcXs"
      }
    },
    {
      "cell_type": "code",
      "execution_count": null,
      "metadata": {
        "colab": {
          "base_uri": "https://localhost:8080/"
        },
        "id": "fWXGclkJgbBN",
        "outputId": "8287f608-ed62-49ff-c8f4-d4c843afd896"
      },
      "outputs": [
        {
          "output_type": "stream",
          "name": "stdout",
          "text": [
            "Enter sales: 12000\n",
            "Sales: $ 12000\n",
            "Cost of goods sold is $ 4800.0\n",
            "Gross pofit is $ 7200.0\n"
          ]
        }
      ],
      "source": [
        "#inputs\n",
        "sales=int(input(\"Enter sales: \"))\n",
        "\n",
        "#calculate and display COGS and Gross profit\n",
        "cogs=.4*(sales)\n",
        "profit=sales-COGS\n",
        "\n",
        "#print\n",
        "print(\"Sales: $\", sales)\n",
        "print(\"Cost of goods sold is $\",cogs)\n",
        "print(\"Gross pofit is $\",profit)"
      ]
    },
    {
      "cell_type": "code",
      "source": [
        "#inputs: sales and cogs_pct\n",
        "sales=input(\"Enter sales ($): \")\n",
        "sales=float(sales)\n",
        "\n",
        "cogs_pct=input(\"Enter Cost of Goods sold (%): \")\n",
        "cogs_pct=float(cogs_pct)\n",
        "\n",
        "#processes: calculate actual cost of goods sold\n",
        "cogs=sales*cogs_pct/100\n",
        "grossProfit= sales-cogs\n",
        "\n",
        "#outputs: display cogs and grossProfit\n",
        "print(f\"Cost of Goods sold: ${cogs}\")\n",
        "print(f\"Gross Profit: ${grossProfit}\")"
      ],
      "metadata": {
        "colab": {
          "base_uri": "https://localhost:8080/"
        },
        "id": "txKSSLDQjwE3",
        "outputId": "87f35dd1-7bde-4ca4-ad64-b2d274a1a4a7"
      },
      "execution_count": null,
      "outputs": [
        {
          "output_type": "stream",
          "name": "stdout",
          "text": [
            "Enter sales ($): 12000\n",
            "Enter Cost of Goods sold (%): 40\n",
            "Cost of Goods sold: $4800.0\n",
            "Gross Profit: $7200.0\n"
          ]
        }
      ]
    },
    {
      "cell_type": "markdown",
      "source": [
        "Enhance the program to calculate Taxes and Net income:\n",
        "\n",
        "Prompt for a tax rate in percent, calculate taxes (gross profit x tax rate) and net income (gross profit-taxes)"
      ],
      "metadata": {
        "id": "2-w85chymBKb"
      }
    },
    {
      "cell_type": "code",
      "source": [
        "#inputs: sales and cogs_pct and tax_rt\n",
        "sales=input(\"Enter sales ($): \")\n",
        "sales=float(sales)\n",
        "\n",
        "cogs_pct=input(\"Enter Cost of Goods sold (%): \")\n",
        "cogs_pct=float(cogs_pct)\n",
        "\n",
        "tax_rt=input(\"Enter tax rate (%): \")\n",
        "tax_rt=float(tax_rt)\n",
        "\n",
        "\n",
        "#processes: calculate actual cost of goods sold, grossProfit, taxes, net income\n",
        "cogs=sales*cogs_pct/100\n",
        "grossProfit= sales-cogs\n",
        "taxes= grossProfit*(tax_rt/100)\n",
        "netIncome=grossProfit-taxes\n",
        "\n",
        "\n",
        "#outputs: display cogs and grossProfit\n",
        "print(f\"Sales: ${sales}\")\n",
        "print(f\"Cost of Goods sold: ${cogs}\")\n",
        "print(f\"Gross Profit: ${grossProfit}\")\n",
        "print(f\"Taxes: ${taxes}\")\n",
        "print(f\"Net Income: ${netIncome}\")"
      ],
      "metadata": {
        "colab": {
          "base_uri": "https://localhost:8080/"
        },
        "id": "T-JMOJvzmAp0",
        "outputId": "b6b97a96-da70-4bb2-c68b-7bd718c1b48f"
      },
      "execution_count": null,
      "outputs": [
        {
          "output_type": "stream",
          "name": "stdout",
          "text": [
            "Enter sales ($): 12000\n",
            "Enter Cost of Goods sold (%): 40\n",
            "Enter tax rate (%): 30\n",
            "Sales: $12000.0\n",
            "Cost of Goods sold: $4800.0\n",
            "Gross Profit: $7200.0\n",
            "Taxes: $2160.0\n",
            "Net Income: $5040.0\n"
          ]
        }
      ]
    },
    {
      "cell_type": "markdown",
      "source": [
        "\n",
        "---\n",
        "\n"
      ],
      "metadata": {
        "id": "qIE1r-OhhRcn"
      }
    },
    {
      "cell_type": "markdown",
      "source": [
        "Inventory Management\n",
        "\n",
        "Assume an item has a steady demand during every year. There is a cost for placing an order with the supplier and a cost for restocking an item. There is also a cost for storing items. Given these costs and your demand forecast, calculate how much of the item to reorder to minimize annual ordering and storing costs. This amount is referred to as the Economic Order Quantity (EOQ).\n",
        "\n",
        "Given the following assumptions:\n",
        "\n",
        "D -> annual demand (units/year)\n",
        "\n",
        "S -> reorder cost ($/order)\n",
        "\n",
        "H -> holding cost ($/unit/year)\n",
        "\n",
        "then EOQ=sqrt(2 x D x S/H)\n"
      ],
      "metadata": {
        "id": "CcmU6dwuIpZg"
      }
    },
    {
      "cell_type": "code",
      "source": [
        "#inputs: annual_demand, reorder_cost, holding_cost\n",
        "demand=input(\"Enter annual demand (units/year): \")\n",
        "demand=int(demand)\n",
        "\n",
        "reorder=input(\"Enter reorder cost($/order): \")\n",
        "reorder=float(reorder)\n",
        "\n",
        "holding=input(\"Enter holding cost ($/unit/year): \")\n",
        "holding=float(holding)\n",
        "\n",
        "#process\n",
        "eoq=(2*demand*reorder/holding)**0.5\n",
        "\n",
        "#output: display EOQ\n",
        "print(f\"EOQ: {eoq} units\")\n"
      ],
      "metadata": {
        "colab": {
          "base_uri": "https://localhost:8080/"
        },
        "id": "yA89lp65Jca1",
        "outputId": "7990e10a-64f3-4223-e51a-096e075ead4f"
      },
      "execution_count": null,
      "outputs": [
        {
          "output_type": "stream",
          "name": "stdout",
          "text": [
            "Enter annual demand (units/year): 100\n",
            "Enter reorder cost($/order): 1.5\n",
            "Enter holding cost ($/unit/year): 3\n",
            "EOQ: 10.0 units\n"
          ]
        }
      ]
    },
    {
      "cell_type": "markdown",
      "source": [
        "Practice if-elif-else statments:\n",
        "\n",
        "Design a simple numerical calculator in Python. The user needs to provide 3 inputs: two numbers and the mathematical operator of choice. The program should print the output on the screen"
      ],
      "metadata": {
        "id": "kY_po_GYMRHa"
      }
    },
    {
      "cell_type": "code",
      "source": [
        "n1 = float(input(\"Enter a numerical value: \"))\n",
        "n2 = float(input(\"Enter another numerical value: \"))\n",
        "op =input(\"Enter operator (+, -, *, /, //, **, %): \")\n",
        "\n",
        "res= None\n",
        "\n",
        "#compare the input for op to each one of the numerical operators\n",
        "if op == \"+\":\n",
        "  res= n1 +n2\n",
        "elif op == \"-\":\n",
        "  res= n1 -n2\n",
        "elif op ==\"*\":\n",
        "  res=n1 *n2\n",
        "elif op ==\"/\":\n",
        "  res=n1 /n2\n",
        "elif op ==\"//\":\n",
        "  res=n1//n2\n",
        "elif op ==\"**\":\n",
        "  res=n1**n2\n",
        "elif op ==\"%\":\n",
        "  res=n1%n2\n",
        "else:\n",
        "  print(\"Invalid Operator\")\n",
        "\n",
        "print(f\"Result:[{res}]\")\n"
      ],
      "metadata": {
        "colab": {
          "base_uri": "https://localhost:8080/"
        },
        "id": "ec7MJY99Mc4P",
        "outputId": "2cbf72ac-72e9-4efe-9b2f-08b5e3ccd0ef"
      },
      "execution_count": null,
      "outputs": [
        {
          "output_type": "stream",
          "name": "stdout",
          "text": [
            "Enter a numerical value: 4\n",
            "Enter another numerical value: 3\n",
            "Enter operator (+, -, *, /, //, **, %): *\n",
            "Result:[12.0]\n"
          ]
        }
      ]
    },
    {
      "cell_type": "markdown",
      "source": [
        "Parking Garage: A parking garage charges customers based on the number of hours their car is parked. The fee structure is as follows:\n",
        "* The base fee is $5 plus 2.50 per hour\n",
        "* The minimum charge is 10.00, regardless of hours parked\n",
        "* The maximum charge is 20.00, even if the calculation exceeds this amount\n",
        "\n",
        "Write a Python program that displays the number of hours (from 1 through 8) and the corresponding parking fee.\n",
        "\n",
        "Format the output as a table with column headers, and ensure fees are adjusted for the minimum and maximum limits."
      ],
      "metadata": {
        "id": "R2F9qHMZqiQ9"
      }
    },
    {
      "cell_type": "code",
      "source": [
        "print(\"# of hours\\tFee ($)\")\n",
        "print(\"--------------------\")\n",
        "for hours in range(1, 9):\n",
        "   fee = 5 + hours * 2.5\n",
        "   if fee < 10:\n",
        "    fee = 10.0\n",
        "    print(f\"{hours}\\t\\t{fee}\")\n",
        "   elif fee > 20:\n",
        "    fee = 20.0\n",
        "    print(f\"{hours}\\t\\t{fee}\")\n",
        "   else:\n",
        "    print(f\"{hours}\\t\\t{fee}\")"
      ],
      "metadata": {
        "id": "Dj5kWj9FqixA"
      },
      "execution_count": null,
      "outputs": []
    },
    {
      "cell_type": "markdown",
      "source": [
        "Movie Theater: A movie theater is studying how advertising expenditure impacts its revenue. The revenue function is defined as:\n",
        "\n",
        "Revenue = 10×(20+2ad^.5)−200−ad\n",
        "where:\n",
        "\n",
        "*  ad is the advertising expenditure (in dollars),\n",
        "*  20 is the baseline number of customers,\n",
        "* 2 x sqrt (ad) represents additional customers attracted by advertising,\n",
        "* each customer buys a ticket for $10,\n",
        "\n",
        "* the theater has fixed costs of $200,\n",
        "\n",
        "* and advertising costs are subtracted directly.\n",
        "\n",
        "Write a Python program that calculates and prints the advertising cost and corresponding revenue for ad values from 0 to 200 (dollars) in increments of $25. Round the revenue to one decimal place.\n"
      ],
      "metadata": {
        "id": "-8szkxf7hM8E"
      }
    },
    {
      "cell_type": "code",
      "source": [
        "#movie theater\n",
        "#for loop\n",
        "\n",
        "for ad in range(0,201,25):\n",
        "  revenue = 20*10 + 10*2 * ad** 0.5\n",
        "  expenses = 200 + ad\n",
        "  profit = revenue - expenses\n",
        "  print (ad, profit)"
      ],
      "metadata": {
        "id": "siz---K_hN_j"
      },
      "execution_count": null,
      "outputs": []
    },
    {
      "cell_type": "markdown",
      "source": [
        "Append iteratively assignment: Write a Python program that repeatedly asks the user to enter numbers until they enter 0. The program should:\n",
        "\n",
        "* Store each nonzero number in a list.\n",
        "\n",
        "* Stop asking for input when the user types 0.\n",
        "\n",
        "* Sort the list of numbers in descending order (largest to smallest).\n",
        "\n",
        "* Print the sorted list."
      ],
      "metadata": {
        "id": "aGDlc3WDIJke"
      }
    },
    {
      "cell_type": "code",
      "source": [
        "numbers = []\n",
        "num = float(input('Give a number: '))\n",
        "\n",
        "while num != 0:\n",
        "  numbers.append(num)\n",
        "  num = float(input('Give another number: '))\n",
        "\n",
        "numbers.sort(reverse=True)\n",
        "print(numbers)"
      ],
      "metadata": {
        "colab": {
          "base_uri": "https://localhost:8080/"
        },
        "id": "JPNgoiCbIQ6e",
        "outputId": "111072fe-5a5e-4acc-998f-3c6836a891d8"
      },
      "execution_count": null,
      "outputs": [
        {
          "output_type": "stream",
          "name": "stdout",
          "text": [
            "Give a number: 4\n",
            "Give another number: 2\n",
            "Give another number: 0\n",
            "[4.0, 2.0]\n"
          ]
        }
      ]
    },
    {
      "cell_type": "markdown",
      "source": [
        "Rock-Paper-Scissors\n",
        "(ask Chat to design it for you and compare to what we have learned)\n",
        "\n",
        "\n",
        "*   Write a program that plays the game against the computer for as long as the user wants\n",
        "*   Start by allowing the user to choose whether they want to play using the appropriate input\n",
        "* As long as the user chooses 'yes' the game continues\n",
        "* Add realism by allowing the computer to randomly choose its action. You can do this by using the random library\n",
        "\n",
        "import random\n",
        "\n",
        "computer=random.choice(['rock','paper','scissors'])\n",
        "\n",
        "\n",
        "Chat: says to use while True: (this means that it keeps running as long as it is true, you must include -if cond: break- to allow the process to stop) the method \"lower()\" flattens all inputs into lower case"
      ],
      "metadata": {
        "id": "zLrGCAgfez3P"
      }
    },
    {
      "cell_type": "markdown",
      "source": [
        "```python\n",
        "user_choice == 'rock' and pc_choice == 'scissors'\n",
        "user_choice == 'scissors' and pc_choice == 'paper'\n",
        "user_choice == 'paper' and pc_choice == 'rock'\n",
        "```\n",
        "\n",
        "You can put all of these in elif statements or do what we did below (makes it more efficient)"
      ],
      "metadata": {
        "id": "7lD-nQNeour0"
      }
    },
    {
      "cell_type": "code",
      "source": [
        "import random\n",
        "\n",
        "while True:\n",
        "  play=input(\"Do you want to play a game (yes/no)?\").lower()\n",
        "  if play != 'yes':\n",
        "    break\n",
        "\n",
        "  #Rock, paper, scissors game here\n",
        "  user_choice= input (\"Choose between rock, paper, scissors: \")\n",
        "  pc_choice= random.choice(['rock', 'paper', 'scissors'])\n",
        "  print(f'User: {user_choice}, Computer: {pc_choice}')\n",
        "\n",
        "  if user_choice == pc_choice:\n",
        "    print('Tie')\n",
        "  elif(\n",
        "    (user_choice == 'rock' and pc_choice == 'scissors')or\n",
        "    (user_choice == 'scissors' and pc_choice == 'paper') or\n",
        "    (user_choice == 'paper' and pc_choice == 'rock')\n",
        "    ):\n",
        "    print('User wins')\n",
        "  else:\n",
        "    print('Computer wins')"
      ],
      "metadata": {
        "id": "Yr22pwXhfeiO",
        "colab": {
          "base_uri": "https://localhost:8080/"
        },
        "outputId": "63bab8b2-4704-43c0-cc9c-ae546601bac5"
      },
      "execution_count": null,
      "outputs": [
        {
          "name": "stdout",
          "output_type": "stream",
          "text": [
            "Do you want to play a game (yes/no)?yes\n",
            "Choose between rock, paper, scissors: rock\n",
            "User: rock, Computer: rock\n",
            "Tie\n",
            "Do you want to play a game (yes/no)?no\n"
          ]
        }
      ]
    },
    {
      "cell_type": "markdown",
      "source": [
        "Product prices (dictionaries)\n",
        "\n",
        "A company sells 2 products (P-01: 9.95, P-02: 10.50). Write a program that sets up a dictionary with product IDs as keys and prices as their values. Prompt the user to eneter a product ID, then display that product's price. (when you want to retrieve values from a dictionary, put the key)\n",
        "\n",
        "\n",
        "Sample run:\n",
        "\n",
        "Enter product ID: P-01\n",
        "\n",
        "P-01 9.95\n",
        "\n",
        "For your program with a dictionary of product IDs and their prices, refine so that if the user enters a product ID not in the dictionary, it displays a message\n",
        "\n",
        "Sample run:\n",
        "\n",
        "Enter product ID: X-01\n",
        "\n",
        "X-01 not found"
      ],
      "metadata": {
        "id": "JEHXJC_8wEKU"
      }
    },
    {
      "cell_type": "code",
      "source": [
        "products = {\n",
        "    'P-01':9.95,\n",
        "    'P-02': 10.50\n",
        "}\n",
        "\n",
        "user_key=input(\"Enter product ID: \")\n",
        "\n",
        "if user_key in products.keys():\n",
        "  print(f'Product: {user_key}, Price: ${products[user_key]}')\n",
        "else:\n",
        "  print('Invalid key')"
      ],
      "metadata": {
        "colab": {
          "base_uri": "https://localhost:8080/"
        },
        "id": "e2uAgOyknMZU",
        "outputId": "0a79953a-df86-4870-c148-d00d5184ccaa"
      },
      "execution_count": null,
      "outputs": [
        {
          "output_type": "stream",
          "name": "stdout",
          "text": [
            "Enter product ID: P-01\n",
            "Product: P-01, Price: $9.95\n"
          ]
        }
      ]
    },
    {
      "cell_type": "code",
      "source": [],
      "metadata": {
        "id": "93shMIJ2yAf3"
      },
      "execution_count": null,
      "outputs": []
    }
  ]
}